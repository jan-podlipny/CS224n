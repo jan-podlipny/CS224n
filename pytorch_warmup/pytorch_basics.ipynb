{
  "nbformat": 4,
  "nbformat_minor": 0,
  "metadata": {
    "colab": {
      "name": "pytorch_warmup.ipynb",
      "provenance": [],
      "authorship_tag": "ABX9TyNeOZ/eS3fqDcmIVtOoeblS",
      "include_colab_link": true
    },
    "kernelspec": {
      "name": "python3",
      "display_name": "Python 3"
    }
  },
  "cells": [
    {
      "cell_type": "markdown",
      "metadata": {
        "id": "view-in-github",
        "colab_type": "text"
      },
      "source": [
        "<a href=\"https://colab.research.google.com/github/jan-podlipny/CS224n/blob/master/pytorch_warmup/pytorch_basics.ipynb\" target=\"_parent\"><img src=\"https://colab.research.google.com/assets/colab-badge.svg\" alt=\"Open In Colab\"/></a>"
      ]
    },
    {
      "cell_type": "code",
      "metadata": {
        "id": "K_vxe6LcZDUp",
        "colab_type": "code",
        "colab": {
          "base_uri": "https://localhost:8080/",
          "height": 35
        },
        "outputId": "c31f110c-cab7-4026-819b-3c4580f74d08"
      },
      "source": [
        "from torch import nn\n",
        "torch.manual_seed(18)"
      ],
      "execution_count": 30,
      "outputs": [
        {
          "output_type": "execute_result",
          "data": {
            "text/plain": [
              "<torch._C.Generator at 0x7f24d506a270>"
            ]
          },
          "metadata": {
            "tags": []
          },
          "execution_count": 30
        }
      ]
    },
    {
      "cell_type": "markdown",
      "metadata": {
        "id": "Xjw9en4MpBgT",
        "colab_type": "text"
      },
      "source": [
        "Sequential model"
      ]
    },
    {
      "cell_type": "code",
      "metadata": {
        "id": "gifaGlpXpBCP",
        "colab_type": "code",
        "colab": {
          "base_uri": "https://localhost:8080/",
          "height": 109
        },
        "outputId": "94ea12a0-c6e5-4821-ca46-2d096ddc2986"
      },
      "source": [
        "seq_model = nn.Sequential(nn.Linear(3,1),nn.Sigmoid())\n",
        "\n",
        "print(list(seq_model.parameters()))\n",
        "print(' ')\n",
        "print(seq_model.state_dict())\n",
        "state_dict = seq_model.state_dict()"
      ],
      "execution_count": 106,
      "outputs": [
        {
          "output_type": "stream",
          "text": [
            "[Parameter containing:\n",
            "tensor([[ 0.5568, -0.4714, -0.5127]], requires_grad=True), Parameter containing:\n",
            "tensor([0.5386], requires_grad=True)]\n",
            " \n",
            "OrderedDict([('0.weight', tensor([[ 0.5568, -0.4714, -0.5127]])), ('0.bias', tensor([0.5386]))])\n"
          ],
          "name": "stdout"
        }
      ]
    },
    {
      "cell_type": "code",
      "metadata": {
        "id": "44CRV2oQo_mA",
        "colab_type": "code",
        "colab": {
          "base_uri": "https://localhost:8080/",
          "height": 35
        },
        "outputId": "69cdea2a-2a6b-40d2-b09e-528125b8ef1a"
      },
      "source": [
        "X = torch.tensor([1.,5.,20.])\n",
        "yhat = seq_model(X)\n",
        "print(yhat)"
      ],
      "execution_count": 109,
      "outputs": [
        {
          "output_type": "stream",
          "text": [
            "tensor([9.9789e-06], grad_fn=<SigmoidBackward>)\n"
          ],
          "name": "stdout"
        }
      ]
    },
    {
      "cell_type": "markdown",
      "metadata": {
        "id": "d_SLirTkrSqD",
        "colab_type": "text"
      },
      "source": [
        "Custom class"
      ]
    },
    {
      "cell_type": "code",
      "metadata": {
        "id": "jI0q4J_GZwHw",
        "colab_type": "code",
        "colab": {}
      },
      "source": [
        "class logistic_regression(nn.Module):\n",
        "    \n",
        "    # Constructor\n",
        "    def __init__(self, n_inputs):\n",
        "        super(logistic_regression, self).__init__()\n",
        "        self.linear = nn.Linear(n_inputs, 1)\n",
        "    \n",
        "    # Prediction\n",
        "    def forward(self, x):\n",
        "        yhat = torch.sigmoid(self.linear(x))\n",
        "        return yhat"
      ],
      "execution_count": 110,
      "outputs": []
    },
    {
      "cell_type": "code",
      "metadata": {
        "id": "3fJh3d3onJJt",
        "colab_type": "code",
        "colab": {
          "base_uri": "https://localhost:8080/",
          "height": 54
        },
        "outputId": "120b204e-a84d-4b3b-8085-d7dd61df7f77"
      },
      "source": [
        "model = logistic_regression(3)\n",
        "print(model.state_dict())\n",
        "c_state_dict = model.state_dict()\n",
        "c_state_dict['linear.weight'], c_state_dict['linear.bias']  = state_dict['0.weight'],  state_dict['0.bias']\n",
        "model.load_state_dict(c_state_dict)\n",
        "print(model.state_dict())"
      ],
      "execution_count": 124,
      "outputs": [
        {
          "output_type": "stream",
          "text": [
            "OrderedDict([('linear.weight', tensor([[0.3853, 0.0116, 0.1424]])), ('linear.bias', tensor([0.3245]))])\n",
            "OrderedDict([('linear.weight', tensor([[ 0.5568, -0.4714, -0.5127]])), ('linear.bias', tensor([0.5386]))])\n"
          ],
          "name": "stdout"
        }
      ]
    },
    {
      "cell_type": "code",
      "metadata": {
        "id": "yw45Lx3Erd-B",
        "colab_type": "code",
        "colab": {
          "base_uri": "https://localhost:8080/",
          "height": 35
        },
        "outputId": "d58a5c7f-4576-49cb-dd78-aff8daac9a6d"
      },
      "source": [
        "yhat = model(X)\n",
        "print(\"The prediction: \", yhat)"
      ],
      "execution_count": 125,
      "outputs": [
        {
          "output_type": "stream",
          "text": [
            "The prediction:  tensor([9.9789e-06], grad_fn=<SigmoidBackward>)\n"
          ],
          "name": "stdout"
        }
      ]
    },
    {
      "cell_type": "code",
      "metadata": {
        "id": "bVCOMc68vtLI",
        "colab_type": "code",
        "colab": {}
      },
      "source": [
        ""
      ],
      "execution_count": null,
      "outputs": []
    }
  ]
}